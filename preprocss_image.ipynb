{
 "cells": [
  {
   "cell_type": "code",
   "execution_count": 1,
   "metadata": {},
   "outputs": [
    {
     "name": "stderr",
     "output_type": "stream",
     "text": [
      "/var/folders/mq/vysn21h93d95l3tsbt8txq400000gn/T/ipykernel_36581/1560000665.py:1: DeprecationWarning: the imp module is deprecated in favour of importlib; see the module's documentation for alternative uses\n",
      "  import imp\n"
     ]
    }
   ],
   "source": [
    "import imp\n",
    "import numpy as np\n",
    "from tqdm import tqdm\n",
    "import os\n",
    "\n",
    "import matplotlib.pyplot as plt\n",
    "from PIL import Image\n",
    "import cv2\n",
    "\n",
    "import torch\n",
    "import torch.nn as nn\n",
    "from torch.utils.data import DataLoader\n",
    "import torch.optim as optim\n",
    "from torchsummary import summary\n",
    "from torchvision.datasets import ImageFolder\n",
    "import torchvision.transforms as transforms\n",
    "import torchvision.utils as vutils\n",
    "\n",
    "from model.Generator import Generator\n",
    "from model.Discriminator import Discriminator\n",
    "\n",
    "IMAGE_DIR = 'Data'\n",
    "IMAGE_SIZE = 64\n",
    "IMAGE_CHANNEL = 3\n",
    "\n",
    "BATCH_SIZE = 32\n"
   ]
  },
  {
   "cell_type": "markdown",
   "metadata": {},
   "source": [
    "( to del .DS_Store in this dir and subdirs )\n",
    "\n",
    "find . -name \".DS_Store\" -delete"
   ]
  },
  {
   "cell_type": "markdown",
   "metadata": {},
   "source": [
    "### Problem of image\n",
    "\n",
    "in collecting images for training GAN, we do\n",
    "1. resize the smallest dim into IMAGE_SIZE\n",
    "2. center crop into (IMAGE_SIZE, IMAGE_SIZE)\n",
    "\n",
    "but some original object in image is not center places, thus some part of object will be cut"
   ]
  },
  {
   "cell_type": "code",
   "execution_count": null,
   "metadata": {},
   "outputs": [],
   "source": [
    "resize = transforms.Resize(IMAGE_SIZE)\n",
    "crop = transforms.CenterCrop(IMAGE_SIZE)"
   ]
  },
  {
   "cell_type": "code",
   "execution_count": 70,
   "metadata": {},
   "outputs": [
    {
     "data": {
      "image/png": "[encoded data removed]",
      "text/plain": [
       "<PIL.Image.Image image mode=RGB size=64x64>"
      ]
     },
     "execution_count": 70,
     "metadata": {},
     "output_type": "execute_result"
    }
   ],
   "source": [
    "image = \"Data/REVOLVE/JOHF-MS143_V1.jpg\"\n",
    "pil_image = Image.open(image)\n",
    "crop(resize(pil_image))"
   ]
  },
  {
   "cell_type": "markdown",
   "metadata": {},
   "source": [
    "### Preprocess Function\n",
    "\n",
    "- target image will be square\n",
    "- different data source may need different background threshold  ( too low may let the white T-shit be elimunated )"
   ]
  },
  {
   "cell_type": "code",
   "execution_count": 123,
   "metadata": {},
   "outputs": [],
   "source": [
    "def crop_image(image_path):\n",
    "    image = cv2.imread(image_path)\n",
    "    ## (1) Convert to gray, and threshold\n",
    "    gray = cv2.cvtColor(image, cv2.COLOR_BGR2GRAY)\n",
    "    th, threshed = cv2.threshold(gray, 250, 255, cv2.THRESH_BINARY_INV)\n",
    "\n",
    "    ## (2) Morph-op to remove noise\n",
    "    kernel = cv2.getStructuringElement(cv2.MORPH_ELLIPSE, (11,11))\n",
    "    morphed = cv2.morphologyEx(threshed, cv2.MORPH_CLOSE, kernel)\n",
    "\n",
    "    ## (3) Find the max-area contour\n",
    "    cnts = cv2.findContours(morphed, cv2.RETR_EXTERNAL, cv2.CHAIN_APPROX_SIMPLE)[-2]\n",
    "    cnt = sorted(cnts, key=cv2.contourArea)[-1]\n",
    "\n",
    "    ## (4) produce square bounding box with extension (10% of both side)\n",
    "    x,y,w,h = cv2.boundingRect(cnt)\n",
    "    dst = image[y:y+h, x:x+w]\n",
    "    target_size = max(w,h) * 1.2\n",
    "    top_bottom_pad = round((target_size - h)/2)\n",
    "    left_right_pad = round((target_size - w)/2)\n",
    "    dst = cv2.copyMakeBorder(dst, top_bottom_pad, top_bottom_pad, left_right_pad, left_right_pad, cv2.BORDER_CONSTANT, value = (255,255,255))\n",
    "\n",
    "    return dst"
   ]
  },
  {
   "cell_type": "code",
   "execution_count": 126,
   "metadata": {},
   "outputs": [
    {
     "name": "stdout",
     "output_type": "stream",
     "text": [
      "Processing Beams\n"
     ]
    },
    {
     "name": "stderr",
     "output_type": "stream",
     "text": [
      "100%|██████████| 55/55 [00:00<00:00, 411.79it/s]\n"
     ]
    }
   ],
   "source": [
    "# brand_list =  ['ABCmart','covernat','FWRD','Hopes','KIKS','lativ','muji','plainme','REMIX','REVOLVE','roots','thisisneverthat','ZARA']\n",
    "brand_list = ['Beams']\n",
    "for brand in brand_list:\n",
    "    print(f'Processing {brand}')\n",
    "    source_image_dir = f'Data/{brand}'\n",
    "    target_image_dir = f'Preprocessed_Data/{brand}'\n",
    "    if not os.path.exists(target_image_dir): os.mkdir(target_image_dir)\n",
    "\n",
    "    for file_name in tqdm(os.listdir(source_image_dir)):\n",
    "        if file_name[0] == '.':\n",
    "            continue\n",
    "        result_image = crop_image(f\"{source_image_dir}/{file_name}\")\n",
    "        cv2.imwrite(f\"{target_image_dir}/{file_name}\",result_image)"
   ]
  },
  {
   "cell_type": "markdown",
   "metadata": {},
   "source": [
    "### check the processed image"
   ]
  },
  {
   "cell_type": "code",
   "execution_count": 95,
   "metadata": {},
   "outputs": [
    {
     "data": {
      "image/png": "[encoded data removed]",
      "text/plain": [
       "<PIL.Image.Image image mode=RGB size=64x64>"
      ]
     },
     "execution_count": 95,
     "metadata": {},
     "output_type": "execute_result"
    }
   ],
   "source": [
    "image = \"Preprocessed_Data/REVOLVE/JOHF-MS143_V1.jpg\"\n",
    "pil_image = Image.open(image)\n",
    "crop(resize(pil_image))"
   ]
  },
  {
   "cell_type": "code",
   "execution_count": 107,
   "metadata": {},
   "outputs": [
    {
     "data": {
      "image/png": "[encoded data removed]",
      "text/plain": [
       "<PIL.Image.Image image mode=RGB size=64x64>"
      ]
     },
     "execution_count": 107,
     "metadata": {},
     "output_type": "execute_result"
    }
   ],
   "source": [
    "image = \"Preprocessed_Data/thisisneverthat/5bf9e42b7a8aa3e3cccd5838a0270184_tn.jpeg\"\n",
    "pil_image = Image.open(image)\n",
    "crop(resize(pil_image))"
   ]
  },
  {
   "cell_type": "code",
   "execution_count": null,
   "metadata": {},
   "outputs": [],
   "source": []
  }
 ],
 "metadata": {
  "kernelspec": {
   "display_name": "Python 3.8.13 ('tf')",
   "language": "python",
   "name": "python3"
  },
  "language_info": {
   "codemirror_mode": {
    "name": "ipython",
    "version": 3
   },
   "file_extension": ".py",
   "mimetype": "text/x-python",
   "name": "python",
   "nbconvert_exporter": "python",
   "pygments_lexer": "ipython3",
   "version": "3.8.13"
  },
  "orig_nbformat": 4,
  "vscode": {
   "interpreter": {
    "hash": "1f2b8d1c2146e18e7c087812a906ff648dad39ed9275904499d7674301bb197b"
   }
  }
 },
 "nbformat": 4,
 "nbformat_minor": 2
}
